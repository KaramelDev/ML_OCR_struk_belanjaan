{
 "cells": [
  {
   "cell_type": "code",
   "execution_count": 1,
   "id": "f6d19cf0",
   "metadata": {},
   "outputs": [],
   "source": [
    "import numpy as np\n",
    "import cv2\n",
    "import matplotlib.pyplot as plt\n",
    "import pytesseract\n",
    "import re\n",
    "\n",
    "from pytesseract import Output"
   ]
  },
  {
   "cell_type": "code",
   "execution_count": 2,
   "id": "e57f4e73",
   "metadata": {},
   "outputs": [],
   "source": [
    "def plot_gray(image):\n",
    "    plt.figure(figsize=(16,10))\n",
    "    return plt.imshow(image, cmap='Greys_r')"
   ]
  },
  {
   "cell_type": "code",
   "execution_count": 3,
   "id": "3ce56e9f",
   "metadata": {},
   "outputs": [],
   "source": [
    "def plot_rgb(image):\n",
    "    plt.figure(figsize=(16,10))\n",
    "    return plt.imshow(cv2.cvtColor(image, cv2.COLOR_BGR2RGB))"
   ]
  },
  {
   "cell_type": "code",
   "execution_count": null,
   "id": "75aef5a9",
   "metadata": {},
   "outputs": [],
   "source": [
    "file_name = \"result.png\"\n",
    "image = cv2.imread(file_name, cv2.IMREAD_GRAYSCALE) \n",
    "plot_gray(image)"
   ]
  }
 ],
 "metadata": {
  "kernelspec": {
   "display_name": "env",
   "language": "python",
   "name": "python3"
  },
  "language_info": {
   "codemirror_mode": {
    "name": "ipython",
    "version": 3
   },
   "file_extension": ".py",
   "mimetype": "text/x-python",
   "name": "python",
   "nbconvert_exporter": "python",
   "pygments_lexer": "ipython3",
   "version": "3.11.9"
  }
 },
 "nbformat": 4,
 "nbformat_minor": 5
}
